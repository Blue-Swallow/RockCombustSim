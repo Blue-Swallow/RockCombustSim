{
 "cells": [
  {
   "cell_type": "code",
   "execution_count": 1,
   "metadata": {},
   "outputs": [],
   "source": [
    "import sim_combust\n",
    "import os\n",
    "import matplotlib.pyplot as plt"
   ]
  },
  {
   "cell_type": "markdown",
   "metadata": {},
   "source": [
    "# Property definition"
   ]
  },
  {
   "cell_type": "code",
   "execution_count": 2,
   "metadata": {},
   "outputs": [],
   "source": [
    "cea_fldpath = os.path.join(\"cea_db\", \"LOX_PE\", \"csv_database\")\n",
    "dt = 0.01 # time interval [s]\n",
    "tb_init = 15.0 # initial firing duration time for iteration [s]\n",
    "Pc_init = 3.0e+6 # initial chamber pressure for iteration [Pa]\n",
    "a = 1.17063e-4 # regression coefficient [m^3/kg]\n",
    "n = 0.62 # oxidizer mass flux exponent\n",
    "eta = 0.7\n",
    "Pti = 10.0e+6 # initial tank pressure [Pa]\n",
    "Ptf = 2.0e+6 # final tank pressure [Pa]\n",
    "Vt = 10.0e-3 # oxidizer volume [m^3]\n",
    "Do = 1.0e-3\n",
    "Cd = 0.6 *38\n",
    "Lf = 530e-3 # fuel length [m]\n",
    "Dfi = 70e-3 # initial fuel port diameter [m]\n",
    "Dfo = 200e-3 # fuel outer diameter [m]\n",
    "rho_ox = 1190.0 # oxidizer mass density [kg/m^3]\n",
    "rho_f = 820 # fuel density [kg/m^3]\n",
    "Dti = 37.70e-3 # initial nozzle throat diameter [m]\n",
    "De = 85.0e-3 # nozzle exit diameter [m]\n",
    "Pa = 0.1013e-6 # ambient pressure [Pa]\n",
    "rn = 0.0 # nozzle throat regression rate [m]\n",
    "theta = 10 # nozzle opening half-angle [deg]\n",
    "\n",
    "Pgi = 10.0e+6 # initial gas tank pressure [Pa]\n",
    "Vg = 3.4e-3 # pressurize gas tank volume [m^3]\n",
    "rho_g = 0.1786 # pressurize gas density [kg/m^3]\n",
    "mu_g = 0.0186e-3 # pressurize gas viscosity [Pa-s]\n",
    "gamma_g = 1.67 # specific heat ratioi of pressuirze gas [-]\n",
    "Dpg = (25.4/4)*1.0e-3 # pipe diameter of pressurize gas [m]\n",
    "Lpg = 200e-3 # straight pipe length [m]\n",
    "eps = 0.0015e-3 # equivalent sand roughness [m]\n",
    "zeta = 0.25 # combined pressure loss coefficient\n"
   ]
  },
  {
   "cell_type": "markdown",
   "metadata": {},
   "source": [
    "# Simulation Part"
   ]
  },
  {
   "cell_type": "code",
   "execution_count": 3,
   "metadata": {},
   "outputs": [
    {
     "name": "stdout",
     "output_type": "stream",
     "text": [
      "1st iteration about firing duration time; tb.\n"
     ]
    },
    {
     "name": "stderr",
     "output_type": "stream",
     "text": [
      "  0%|                                                                                       | 0/1500.0 [00:00<?, ?it/s]C:\\Anaconda3\\lib\\site-packages\\scipy\\optimize\\zeros.py:195: RuntimeWarning: Tolerance of 0.00010699999999999599 reached\n",
      "  warnings.warn(msg, RuntimeWarning)\n",
      "D:\\T.J\\Github\\HybridRocketCombustionSim\\Develop\\RockCombustSim\\sim_combust.py:295: RuntimeWarning: divide by zero encountered in double_scalars\n",
      "  error = diff/Pc_cal\n",
      "C:\\Anaconda3\\lib\\site-packages\\scipy\\optimize\\zeros.py:195: RuntimeWarning: Tolerance of 300.0000999998301 reached\n",
      "  warnings.warn(msg, RuntimeWarning)\n",
      "D:\\T.J\\Github\\HybridRocketCombustionSim\\Develop\\RockCombustSim\\sim_combust.py:202: RuntimeWarning: invalid value encountered in power\n",
      "  eps_cal = np.power((2/(gam+1)), 1/(gam-1)) * np.power(Pc/Pe, 1/gam) / np.sqrt((gam+1)/(gam-1)*(1-np.power(Pe/Pc, (gam-1)/gam)))\n",
      "C:\\Anaconda3\\lib\\site-packages\\scipy\\optimize\\zeros.py:195: RuntimeWarning: Tolerance of 0.00010700535 reached\n",
      "  warnings.warn(msg, RuntimeWarning)\n",
      "  0%|                                                                               | 2/1500.0 [00:00<01:17, 19.28it/s]C:\\Anaconda3\\lib\\site-packages\\scipy\\optimize\\zeros.py:195: RuntimeWarning: Tolerance of 0.000107010700268 reached\n",
      "  warnings.warn(msg, RuntimeWarning)\n",
      "C:\\Anaconda3\\lib\\site-packages\\scipy\\optimize\\zeros.py:195: RuntimeWarning: Tolerance of 0.000107016050803 reached\n",
      "  warnings.warn(msg, RuntimeWarning)\n",
      "C:\\Anaconda3\\lib\\site-packages\\scipy\\optimize\\zeros.py:195: RuntimeWarning: Tolerance of 0.000107021401605 reached\n",
      "  warnings.warn(msg, RuntimeWarning)\n",
      "C:\\Anaconda3\\lib\\site-packages\\scipy\\optimize\\zeros.py:195: RuntimeWarning: Tolerance of 0.000107026752675 reached\n",
      "  warnings.warn(msg, RuntimeWarning)\n",
      "  0%|▎                                                                              | 6/1500.0 [00:00<01:05, 22.72it/s]C:\\Anaconda3\\lib\\site-packages\\scipy\\optimize\\zeros.py:195: RuntimeWarning: Tolerance of 0.000107032104013 reached\n",
      "  warnings.warn(msg, RuntimeWarning)\n",
      "C:\\Anaconda3\\lib\\site-packages\\scipy\\optimize\\zeros.py:195: RuntimeWarning: Tolerance of 0.000107037455618 reached\n",
      "  warnings.warn(msg, RuntimeWarning)\n",
      "C:\\Anaconda3\\lib\\site-packages\\scipy\\optimize\\zeros.py:195: RuntimeWarning: Tolerance of 0.000107042807491 reached\n",
      "  warnings.warn(msg, RuntimeWarning)\n",
      "C:\\Anaconda3\\lib\\site-packages\\scipy\\optimize\\zeros.py:195: RuntimeWarning: Tolerance of 0.000107048159631 reached\n",
      "  warnings.warn(msg, RuntimeWarning)\n",
      "  1%|▌                                                                             | 10/1500.0 [00:00<00:58, 25.67it/s]C:\\Anaconda3\\lib\\site-packages\\scipy\\optimize\\zeros.py:195: RuntimeWarning: Tolerance of 0.000107053512039 reached\n",
      "  warnings.warn(msg, RuntimeWarning)\n",
      "C:\\Anaconda3\\lib\\site-packages\\scipy\\optimize\\zeros.py:195: RuntimeWarning: Tolerance of 0.000107058864715 reached\n",
      "  warnings.warn(msg, RuntimeWarning)\n",
      "C:\\Anaconda3\\lib\\site-packages\\scipy\\optimize\\zeros.py:195: RuntimeWarning: Tolerance of 0.000107064217658 reached\n",
      "  warnings.warn(msg, RuntimeWarning)\n",
      "  1%|▋                                                                             | 13/1500.0 [00:00<00:55, 26.64it/s]C:\\Anaconda3\\lib\\site-packages\\scipy\\optimize\\zeros.py:195: RuntimeWarning: Tolerance of 0.000107069570869 reached\n",
      "  warnings.warn(msg, RuntimeWarning)\n",
      "C:\\Anaconda3\\lib\\site-packages\\scipy\\optimize\\zeros.py:195: RuntimeWarning: Tolerance of 0.000107074924347 reached\n",
      "  warnings.warn(msg, RuntimeWarning)\n",
      "C:\\Anaconda3\\lib\\site-packages\\scipy\\optimize\\zeros.py:195: RuntimeWarning: Tolerance of 0.000107080278094 reached\n",
      "  warnings.warn(msg, RuntimeWarning)\n",
      "C:\\Anaconda3\\lib\\site-packages\\scipy\\optimize\\zeros.py:195: RuntimeWarning: Tolerance of 0.000107085632107 reached\n",
      "  warnings.warn(msg, RuntimeWarning)\n",
      "  1%|▉                                                                             | 17/1500.0 [00:00<00:50, 29.43it/s]C:\\Anaconda3\\lib\\site-packages\\scipy\\optimize\\zeros.py:195: RuntimeWarning: Tolerance of 0.000107090986389 reached\n",
      "  warnings.warn(msg, RuntimeWarning)\n",
      "C:\\Anaconda3\\lib\\site-packages\\scipy\\optimize\\zeros.py:195: RuntimeWarning: Tolerance of 0.000107096340938 reached\n",
      "  warnings.warn(msg, RuntimeWarning)\n",
      "C:\\Anaconda3\\lib\\site-packages\\scipy\\optimize\\zeros.py:195: RuntimeWarning: Tolerance of 0.000107101695755 reached\n",
      "  warnings.warn(msg, RuntimeWarning)\n",
      "C:\\Anaconda3\\lib\\site-packages\\scipy\\optimize\\zeros.py:195: RuntimeWarning: Tolerance of 0.00010710705084 reached\n",
      "  warnings.warn(msg, RuntimeWarning)\n",
      "  1%|█                                                                             | 21/1500.0 [00:00<00:47, 31.31it/s]C:\\Anaconda3\\lib\\site-packages\\scipy\\optimize\\zeros.py:195: RuntimeWarning: Tolerance of 0.000107112406193 reached\n",
      "  warnings.warn(msg, RuntimeWarning)\n",
      "C:\\Anaconda3\\lib\\site-packages\\scipy\\optimize\\zeros.py:195: RuntimeWarning: Tolerance of 0.000107117761813 reached\n",
      "  warnings.warn(msg, RuntimeWarning)\n",
      "C:\\Anaconda3\\lib\\site-packages\\scipy\\optimize\\zeros.py:195: RuntimeWarning: Tolerance of 0.000107123117701 reached\n",
      "  warnings.warn(msg, RuntimeWarning)\n",
      "C:\\Anaconda3\\lib\\site-packages\\scipy\\optimize\\zeros.py:195: RuntimeWarning: Tolerance of 0.000107128473857 reached\n",
      "  warnings.warn(msg, RuntimeWarning)\n",
      "C:\\Anaconda3\\lib\\site-packages\\scipy\\optimize\\zeros.py:195: RuntimeWarning: Tolerance of 0.000107133830281 reached\n",
      "  warnings.warn(msg, RuntimeWarning)\n",
      "  2%|█▎                                                                            | 26/1500.0 [00:00<00:44, 33.25it/s]C:\\Anaconda3\\lib\\site-packages\\scipy\\optimize\\zeros.py:195: RuntimeWarning: Tolerance of 0.000107139186972 reached\n",
      "  warnings.warn(msg, RuntimeWarning)\n",
      "C:\\Anaconda3\\lib\\site-packages\\scipy\\optimize\\zeros.py:195: RuntimeWarning: Tolerance of 0.000107144543932 reached\n",
      "  warnings.warn(msg, RuntimeWarning)\n",
      "C:\\Anaconda3\\lib\\site-packages\\scipy\\optimize\\zeros.py:195: RuntimeWarning: Tolerance of 0.000107149901159 reached\n",
      "  warnings.warn(msg, RuntimeWarning)\n",
      "C:\\Anaconda3\\lib\\site-packages\\scipy\\optimize\\zeros.py:195: RuntimeWarning: Tolerance of 0.000107155258654 reached\n",
      "  warnings.warn(msg, RuntimeWarning)\n",
      "  2%|█▌                                                                            | 30/1500.0 [00:00<00:43, 33.72it/s]C:\\Anaconda3\\lib\\site-packages\\scipy\\optimize\\zeros.py:195: RuntimeWarning: Tolerance of 0.000107160616417 reached\n",
      "  warnings.warn(msg, RuntimeWarning)\n",
      "C:\\Anaconda3\\lib\\site-packages\\scipy\\optimize\\zeros.py:195: RuntimeWarning: Tolerance of 0.000107165974448 reached\n",
      "  warnings.warn(msg, RuntimeWarning)\n",
      "C:\\Anaconda3\\lib\\site-packages\\scipy\\optimize\\zeros.py:195: RuntimeWarning: Tolerance of 0.000107171332746 reached\n",
      "  warnings.warn(msg, RuntimeWarning)\n",
      "C:\\Anaconda3\\lib\\site-packages\\scipy\\optimize\\zeros.py:195: RuntimeWarning: Tolerance of 0.000107176691313 reached\n",
      "  warnings.warn(msg, RuntimeWarning)\n",
      "  2%|█▊                                                                            | 34/1500.0 [00:00<00:43, 33.71it/s]C:\\Anaconda3\\lib\\site-packages\\scipy\\optimize\\zeros.py:195: RuntimeWarning: Tolerance of 0.000107182050148 reached\n",
      "  warnings.warn(msg, RuntimeWarning)\n",
      "C:\\Anaconda3\\lib\\site-packages\\scipy\\optimize\\zeros.py:195: RuntimeWarning: Tolerance of 0.00010718740925 reached\n",
      "  warnings.warn(msg, RuntimeWarning)\n",
      "C:\\Anaconda3\\lib\\site-packages\\scipy\\optimize\\zeros.py:195: RuntimeWarning: Tolerance of 0.000107192768621 reached\n",
      "  warnings.warn(msg, RuntimeWarning)\n",
      "C:\\Anaconda3\\lib\\site-packages\\scipy\\optimize\\zeros.py:195: RuntimeWarning: Tolerance of 0.000107198128259 reached\n",
      "  warnings.warn(msg, RuntimeWarning)\n",
      "  3%|█▉                                                                            | 38/1500.0 [00:01<00:42, 34.76it/s]C:\\Anaconda3\\lib\\site-packages\\scipy\\optimize\\zeros.py:195: RuntimeWarning: Tolerance of 0.000107203488165 reached\n",
      "  warnings.warn(msg, RuntimeWarning)\n",
      "C:\\Anaconda3\\lib\\site-packages\\scipy\\optimize\\zeros.py:195: RuntimeWarning: Tolerance of 0.00010720884834 reached\n",
      "  warnings.warn(msg, RuntimeWarning)\n",
      "C:\\Anaconda3\\lib\\site-packages\\scipy\\optimize\\zeros.py:195: RuntimeWarning: Tolerance of 0.000107214208782 reached\n",
      "  warnings.warn(msg, RuntimeWarning)\n",
      "C:\\Anaconda3\\lib\\site-packages\\scipy\\optimize\\zeros.py:195: RuntimeWarning: Tolerance of 0.000107219569493 reached\n",
      "  warnings.warn(msg, RuntimeWarning)\n"
     ]
    },
    {
     "name": "stderr",
     "output_type": "stream",
     "text": [
      "C:\\Anaconda3\\lib\\site-packages\\scipy\\optimize\\zeros.py:195: RuntimeWarning: Tolerance of 0.000107224930471 reached\n",
      "  warnings.warn(msg, RuntimeWarning)\n",
      "  3%|██▏                                                                           | 43/1500.0 [00:01<00:39, 36.53it/s]C:\\Anaconda3\\lib\\site-packages\\scipy\\optimize\\zeros.py:195: RuntimeWarning: Tolerance of 0.000107230291718 reached\n",
      "  warnings.warn(msg, RuntimeWarning)\n",
      "C:\\Anaconda3\\lib\\site-packages\\scipy\\optimize\\zeros.py:195: RuntimeWarning: Tolerance of 0.000107235653232 reached\n",
      "  warnings.warn(msg, RuntimeWarning)\n",
      "C:\\Anaconda3\\lib\\site-packages\\scipy\\optimize\\zeros.py:195: RuntimeWarning: Tolerance of 0.000107241015015 reached\n",
      "  warnings.warn(msg, RuntimeWarning)\n",
      "C:\\Anaconda3\\lib\\site-packages\\scipy\\optimize\\zeros.py:195: RuntimeWarning: Tolerance of 0.000107246377066 reached\n",
      "  warnings.warn(msg, RuntimeWarning)\n",
      "C:\\Anaconda3\\lib\\site-packages\\scipy\\optimize\\zeros.py:195: RuntimeWarning: Tolerance of 0.000107251739385 reached\n",
      "  warnings.warn(msg, RuntimeWarning)\n",
      "  3%|██▍                                                                           | 48/1500.0 [00:01<00:38, 37.62it/s]C:\\Anaconda3\\lib\\site-packages\\scipy\\optimize\\zeros.py:195: RuntimeWarning: Tolerance of 0.000107257101971 reached\n",
      "  warnings.warn(msg, RuntimeWarning)\n",
      "C:\\Anaconda3\\lib\\site-packages\\scipy\\optimize\\zeros.py:195: RuntimeWarning: Tolerance of 0.000107262464827 reached\n",
      "  warnings.warn(msg, RuntimeWarning)\n",
      "C:\\Anaconda3\\lib\\site-packages\\scipy\\optimize\\zeros.py:195: RuntimeWarning: Tolerance of 0.00010726782795 reached\n",
      "  warnings.warn(msg, RuntimeWarning)\n",
      "C:\\Anaconda3\\lib\\site-packages\\scipy\\optimize\\zeros.py:195: Run"
     ]
    },
    {
     "data": {
      "text/html": [
       "<b>limit_output extension: Maximum message size of 10000 exceeded with 10089 characters</b>"
      ]
     },
     "metadata": {},
     "output_type": "display_data"
    }
   ],
   "source": [
    "inst2 = sim_combust.Double_tank(cea_fldpath, dt, tb_init, Pc_init, a, n, eta, Pgi, Vt, Vg, Do, Cd, Lf, Dfi, Dfo, rho_ox, rho_f, rho_g, mu_g, gamma_g, Dpg, Lpg, eps, zeta, Dti, De, Pa, rn, theta)\n",
    "inst2.exe_sim()\n",
    "dat2 = inst2.df"
   ]
  },
  {
   "cell_type": "code",
   "execution_count": 4,
   "metadata": {},
   "outputs": [
    {
     "data": {
      "text/plain": [
       "[<matplotlib.lines.Line2D at 0x2493bd123c8>]"
      ]
     },
     "execution_count": 4,
     "metadata": {},
     "output_type": "execute_result"
    },
    {
     "data": {
      "image/png": "[encoded data removed]",
      "text/plain": [
       "<matplotlib.figure.Figure at 0x2493ac3f6d8>"
      ]
     },
     "metadata": {},
     "output_type": "display_data"
    }
   ],
   "source": [
    "% matplotlib inline\n",
    "\n",
    "plt.plot(dat2.mox)"
   ]
  },
  {
   "cell_type": "code",
   "execution_count": 5,
   "metadata": {},
   "outputs": [
    {
     "data": {
      "text/plain": [
       "[<matplotlib.lines.Line2D at 0x2493be2b978>]"
      ]
     },
     "execution_count": 5,
     "metadata": {},
     "output_type": "execute_result"
    },
    {
     "data": {
      "image/png": "[encoded data removed]",
      "text/plain": [
       "<matplotlib.figure.Figure at 0x2493bd12f98>"
      ]
     },
     "metadata": {},
     "output_type": "display_data"
    }
   ],
   "source": [
    "% matplotlib inline\n",
    "\n",
    "plt.plot(dat2.mf)"
   ]
  },
  {
   "cell_type": "code",
   "execution_count": 6,
   "metadata": {},
   "outputs": [
    {
     "data": {
      "text/plain": [
       "[<matplotlib.lines.Line2D at 0x2493bed05c0>]"
      ]
     },
     "execution_count": 6,
     "metadata": {},
     "output_type": "execute_result"
    },
    {
     "data": {
      "image/png": "[encoded data removed]",
      "text/plain": [
       "<matplotlib.figure.Figure at 0x2493be504a8>"
      ]
     },
     "metadata": {},
     "output_type": "display_data"
    }
   ],
   "source": [
    "% matplotlib inline\n",
    "plt.plot(dat2.of)"
   ]
  },
  {
   "cell_type": "code",
   "execution_count": 7,
   "metadata": {},
   "outputs": [
    {
     "data": {
      "text/plain": [
       "[<matplotlib.lines.Line2D at 0x2493bfc2908>]"
      ]
     },
     "execution_count": 7,
     "metadata": {},
     "output_type": "execute_result"
    },
    {
     "data": {
      "image/png": "[encoded data removed]",
      "text/plain": [
       "<matplotlib.figure.Figure at 0x2493bee83c8>"
      ]
     },
     "metadata": {},
     "output_type": "display_data"
    }
   ],
   "source": [
    "% matplotlib inline\n",
    "plt.plot(dat2.r*1.0e+3)"
   ]
  },
  {
   "cell_type": "code",
   "execution_count": 9,
   "metadata": {},
   "outputs": [
    {
     "data": {
      "text/plain": [
       "[<matplotlib.lines.Line2D at 0x2493c09e978>]"
      ]
     },
     "execution_count": 9,
     "metadata": {},
     "output_type": "execute_result"
    },
    {
     "data": {
      "image/png": "[encoded data removed]",
      "text/plain": [
       "<matplotlib.figure.Figure at 0x2493be89c18>"
      ]
     },
     "metadata": {},
     "output_type": "display_data"
    }
   ],
   "source": [
    "% matplotlib inline\n",
    "plt.plot(dat2.F)"
   ]
  },
  {
   "cell_type": "code",
   "execution_count": 10,
   "metadata": {},
   "outputs": [
    {
     "data": {
      "text/plain": [
       "[<matplotlib.lines.Line2D at 0x2493c145908>]"
      ]
     },
     "execution_count": 10,
     "metadata": {},
     "output_type": "execute_result"
    },
    {
     "data": {
      "image/png": "[encoded data removed]",
      "text/plain": [
       "<matplotlib.figure.Figure at 0x2493c04ffd0>"
      ]
     },
     "metadata": {},
     "output_type": "display_data"
    }
   ],
   "source": [
    "% matplotlib inline\n",
    "plt.plot(dat2.I)"
   ]
  },
  {
   "cell_type": "code",
   "execution_count": 12,
   "metadata": {},
   "outputs": [],
   "source": [
    "import pandas as pd\n",
    "dat2.to_csv(\"LOX_Paraffin_sim_180908.csv\")"
   ]
  }
 ],
 "metadata": {
  "hide_input": false,
  "kernelspec": {
   "display_name": "Python 3",
   "language": "python",
   "name": "python3"
  },
  "language_info": {
   "codemirror_mode": {
    "name": "ipython",
    "version": 3
   },
   "file_extension": ".py",
   "mimetype": "text/x-python",
   "name": "python",
   "nbconvert_exporter": "python",
   "pygments_lexer": "ipython3",
   "version": "3.6.5"
  },
  "toc": {
   "base_numbering": 1,
   "nav_menu": {},
   "number_sections": true,
   "sideBar": true,
   "skip_h1_title": false,
   "title_cell": "Table of Contents",
   "title_sidebar": "Contents",
   "toc_cell": false,
   "toc_position": {},
   "toc_section_display": true,
   "toc_window_display": true
  },
  "varInspector": {
   "cols": {
    "lenName": 16,
    "lenType": 16,
    "lenVar": 40
   },
   "kernels_config": {
    "python": {
     "delete_cmd_postfix": "",
     "delete_cmd_prefix": "del ",
     "library": "var_list.py",
     "varRefreshCmd": "print(var_dic_list())"
    },
    "r": {
     "delete_cmd_postfix": ") ",
     "delete_cmd_prefix": "rm(",
     "library": "var_list.r",
     "varRefreshCmd": "cat(var_dic_list()) "
    }
   },
   "types_to_exclude": [
    "module",
    "function",
    "builtin_function_or_method",
    "instance",
    "_Feature"
   ],
   "window_display": false
  }
 },
 "nbformat": 4,
 "nbformat_minor": 2
}
